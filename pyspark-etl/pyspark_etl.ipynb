{
 "cells": [
  {
   "cell_type": "markdown",
   "id": "40118186",
   "metadata": {},
   "source": [
    "# Pyspark ETL"
   ]
  },
  {
   "cell_type": "markdown",
   "id": "d9523e54",
   "metadata": {},
   "source": [
    "## Processamento inicial dos dados"
   ]
  },
  {
   "cell_type": "code",
   "execution_count": null,
   "id": "8146d4ea",
   "metadata": {},
   "outputs": [],
   "source": [
    "import os\n",
    "from pyspark.sql import SparkSession\n",
    "from pyspark.sql.types import IntegerType, StringType\n",
    "from pyspark.sql.functions import to_date"
   ]
  },
  {
   "cell_type": "code",
   "execution_count": null,
   "id": "d167429b",
   "metadata": {},
   "outputs": [],
   "source": [
    "# Configurar variáveis para acessar HDFS (caso necessário)\n",
    "os.environ[\"HADOOP_USER_NAME\"] = \"root\"  # executa operações no HDFS como usuário root"
   ]
  },
  {
   "cell_type": "code",
   "execution_count": null,
   "id": "9295355d",
   "metadata": {},
   "outputs": [],
   "source": [
    "# Iniciar sessão Spark\n",
    "spark = SparkSession.builder \\\n",
    "    .appName(\"SiasusETL\") \\\n",
    "    .getOrCreate()"
   ]
  },
  {
   "cell_type": "code",
   "execution_count": null,
   "id": "f60938ef",
   "metadata": {},
   "outputs": [],
   "source": [
    "# Ler o arquivo CSV do HDFS\n",
    "# vamos definir esquemas manualmente em alguns casos\n",
    "# encoding Latin-1 para caracteres especiais\n",
    "df = spark.read.format(\"csv\") \\\n",
    "    .option(\"header\", True) \\\n",
    "    .option(\"inferSchema\", False) \\\n",
    "    .option(\"sep\", \",\") \\\n",
    "    .option(\"encoding\", \"ISO-8859-1\") \\\n",
    "    .load(\"hdfs://localhost:9000/user/root/siasus/PSRS2301.csv\")"
   ]
  },
  {
   "cell_type": "code",
   "execution_count": null,
   "id": "56086892",
   "metadata": {},
   "outputs": [],
   "source": [
    "df.printSchema()\n",
    "df.show(5)"
   ]
  },
  {
   "cell_type": "code",
   "execution_count": null,
   "id": "0c5cc004",
   "metadata": {},
   "outputs": [],
   "source": [
    "from pyspark.sql.functions import col, trim, upper, when\n",
    "\n",
    "# Exemplo 1: Renomear coluna com espaços e normalizar strings\n",
    "df = df.withColumnRenamed(\"TIPPRE  \", \"TIPPRE\")  # remove espaços do nome da coluna\n",
    "df = df.withColumn(\"CONDIC\", upper(trim(col(\"CONDIC\"))))  # normaliza CONDIC para maiúsculo sem espaços extras\n",
    "\n",
    "# Exemplo 2: Converter tipos de dados\n",
    "df = df.withColumn(\"IDADEPAC\", col(\"IDADEPAC\").cast(IntegerType()))\n",
    "df = df.withColumn(\"PA_QTDPRO\", col(\"PA_QTDPRO\").cast(IntegerType()))\n",
    "df = df.withColumn(\"PA_QTDAPR\", col(\"PA_QTDAPR\").cast(IntegerType()))\n",
    "\n",
    "df = df.withColumn(\n",
    "    \"DTNASC\",                      \n",
    "    to_date(col(\"DTNASC\"), \"yyyyMMdd\") \n",
    ")\n",
    "\n",
    "# Exemplo 3: Filtrar registros inválidos (caso IDADEPAC não seja plausível, por ex: > 120 anos ou < 0)\n",
    "df = df.filter((col(\"IDADEPAC\") >= 0) & (col(\"IDADEPAC\") < 120))\n",
    "\n",
    "# Exemplo 4: Enriquecimento - criar faixa etária\n",
    "df = df.withColumn(\n",
    "    \"FAIXA_ETARIA\",\n",
    "    when(col(\"IDADEPAC\") < 18, \"MENOR\")\n",
    "     .when((col(\"IDADEPAC\") >= 18) & (col(\"IDADEPAC\") < 60), \"MAIOR\")\n",
    "     .when(col(\"IDADEPAC\") >= 60, \"IDOSO\")\n",
    ")"
   ]
  },
  {
   "cell_type": "code",
   "execution_count": null,
   "id": "e027ac59",
   "metadata": {},
   "outputs": [],
   "source": [
    "# df.summary().show()"
   ]
  },
  {
   "cell_type": "code",
   "execution_count": null,
   "id": "69d1da45",
   "metadata": {},
   "outputs": [],
   "source": [
    "json_rdd = df.toJSON().collect()\n",
    "\n",
    "print(f\"Total de registros a enviar: {len(json_rdd)}\")\n",
    "print(\"Exemplo de registro JSON:\", json_rdd[0])"
   ]
  },
  {
   "cell_type": "markdown",
   "id": "2d032830",
   "metadata": {},
   "source": [
    "## Producer"
   ]
  },
  {
   "cell_type": "code",
   "execution_count": null,
   "id": "24e9e504",
   "metadata": {},
   "outputs": [],
   "source": [
    "from kafka import KafkaProducer"
   ]
  },
  {
   "cell_type": "code",
   "execution_count": null,
   "id": "2cf7e850",
   "metadata": {},
   "outputs": [],
   "source": [
    "# Configura o produtor Kafka (envio de strings, então usaremos encoding de UTF-8)\n",
    "producer = KafkaProducer(bootstrap_servers=['localhost:9092'], \n",
    "                         value_serializer=lambda v: v.encode('utf-8'))"
   ]
  },
  {
   "cell_type": "code",
   "execution_count": null,
   "id": "12436a54",
   "metadata": {},
   "outputs": [],
   "source": [
    "topic_name = \"atendimentos_psicossociais\"\n",
    "\n",
    "# Envia cada mensagem JSON para o tópico\n",
    "for record in json_rdd:\n",
    "    producer.send(topic_name, value=record)"
   ]
  },
  {
   "cell_type": "code",
   "execution_count": null,
   "id": "3fa1de69",
   "metadata": {},
   "outputs": [],
   "source": [
    "# Força envio de qualquer mensagem pendente\n",
    "producer.flush()\n",
    "producer.close()"
   ]
  },
  {
   "cell_type": "code",
   "execution_count": null,
   "id": "e96cbadf",
   "metadata": {},
   "outputs": [],
   "source": [
    "print(f\"{len(json_rdd)} mensagens enviadas para o tópico '{topic_name}'.\")"
   ]
  },
  {
   "cell_type": "markdown",
   "id": "f41f757b",
   "metadata": {},
   "source": [
    "docker exec -it kafka bash\n",
    "kafka-console-consumer.sh --bootstrap-server localhost:9092 --topic andimentos_psicossociais --from-beginning\n"
   ]
  },
  {
   "cell_type": "markdown",
   "id": "c3141eed",
   "metadata": {},
   "source": [
    "## Consumer"
   ]
  },
  {
   "cell_type": "code",
   "execution_count": null,
   "id": "63b2bec0",
   "metadata": {},
   "outputs": [],
   "source": [
    "from kafka import KafkaConsumer\n",
    "from pymongo import MongoClient\n",
    "import json\n",
    "import time\n",
    "\n",
    "topic_name = \"atendimentos_psicossociais\"\n",
    "\n",
    "mongo_client = MongoClient(\"localhost\", 27017)\n",
    "db = mongo_client[\"siasus\"]\n",
    "collection = db[\"atendimentos\"]\n",
    "\n",
    "consumer = KafkaConsumer(\n",
    "    topic_name,\n",
    "    bootstrap_servers=['localhost:9092'],\n",
    "    auto_offset_reset='earliest',\n",
    "    enable_auto_commit=True,\n",
    "    group_id=\"grupo-siasus-1\",\n",
    "    value_deserializer=lambda v: v.decode('utf-8')\n",
    ")\n",
    "\n",
    "batch_size = 10000\n",
    "batch = []\n",
    "count = 0\n",
    "\n",
    "# Controla tempo sem mensagens\n",
    "max_empty_polls = 10\n",
    "empty_polls = 0\n",
    "\n",
    "try:\n",
    "    while True:\n",
    "        raw_msgs = consumer.poll(timeout_ms=1000)  # 1 segundo esperando mensagens\n",
    "\n",
    "        if not raw_msgs:\n",
    "            empty_polls += 1\n",
    "            if empty_polls >= max_empty_polls:\n",
    "                print(\"Nenhuma mensagem nova após várias tentativas, encerrando consumo...\")\n",
    "                break\n",
    "            continue\n",
    "        else:\n",
    "            empty_polls = 0  # reset se chegou mensagem\n",
    "\n",
    "        for tp, messages in raw_msgs.items():\n",
    "            for msg in messages:\n",
    "                registro = json.loads(msg.value)\n",
    "                batch.append(registro)\n",
    "                count += 1\n",
    "\n",
    "                if len(batch) >= batch_size:\n",
    "                    collection.insert_many(batch)\n",
    "                    print(f\"Inseridos {count} registros (último batch de {len(batch)})...\")\n",
    "                    batch.clear()\n",
    "\n",
    "except KeyboardInterrupt:\n",
    "    print(\"Interrupção manual. Finalizando...\")\n",
    "\n",
    "finally:\n",
    "    if batch:\n",
    "        collection.insert_many(batch)\n",
    "        print(f\"Inseridos {count} registros (último batch incompleto de {len(batch)})...\")\n",
    "\n",
    "    print(f\"Consumo finalizado. Total de registros inseridos: {count}\")\n"
   ]
  },
  {
   "cell_type": "code",
   "execution_count": null,
   "id": "f6d4a0a2",
   "metadata": {},
   "outputs": [],
   "source": [
    "print(collection.count_documents({}))\n",
    "# ou, para ver um exemplo de documento:\n",
    "doc = collection.find_one()\n",
    "print(doc)"
   ]
  },
  {
   "cell_type": "markdown",
   "id": "df02cad0",
   "metadata": {},
   "source": [
    "## Análise exploratória"
   ]
  },
  {
   "cell_type": "code",
   "execution_count": null,
   "id": "f496edcd",
   "metadata": {},
   "outputs": [],
   "source": [
    "import pandas as pd\n",
    "import json\n",
    "from collections import Counter\n",
    "import matplotlib.pyplot as plt\n",
    "\n",
    "# Recupere todos os documentos da coleção (cuidado: se fosse muito grande, poderíamos filtrar ou limitar)\n",
    "docs = list(collection.find({}))  # converte cursor em lista de documentos\n",
    "df_pd = pd.DataFrame(docs)\n",
    "\n",
    "print(df_pd.shape)        # deve ser (82233, número_de_colunas+_id)\n",
    "print(df_pd.columns[:10]) # ver as primeiras colunas disponíveis"
   ]
  },
  {
   "cell_type": "markdown",
   "id": "46979429",
   "metadata": {},
   "source": [
    "### Distribuição do número de atendimentos psicossociais por sexo do paciente em Jan/2023"
   ]
  },
  {
   "cell_type": "code",
   "execution_count": null,
   "id": "bfebea6a",
   "metadata": {},
   "outputs": [],
   "source": [
    "#Distribuição por sexo dos pacientes: Quantos atendimentos foram para pacientes do sexo masculino vs feminino? Isso pode indicar perfil demográfico do atendimento psicossocial.\n",
    "contagem_sexo = df_pd['SEXOPAC'].value_counts()\n",
    "porcentagem_sexo = df_pd['SEXOPAC'].value_counts(normalize=True) * 100\n",
    "\n",
    "distribuicao_sexo = pd.DataFrame({\n",
    "    'Quantidade': contagem_sexo,\n",
    "    'Porcentagem (%)': porcentagem_sexo\n",
    "})\n",
    "\n",
    "print(distribuicao_sexo)"
   ]
  },
  {
   "cell_type": "code",
   "execution_count": null,
   "id": "79231841",
   "metadata": {},
   "outputs": [],
   "source": [
    "# Criar o gráfico de barras\n",
    "contagem_sexo.plot(kind='bar', color=['blue', 'pink'], alpha=0.7)\n",
    "\n",
    "# Configurar o gráfico\n",
    "plt.title(\"Distribuição de Atendimentos por Sexo do Paciente\")\n",
    "plt.xlabel(\"Sexo\")\n",
    "plt.ylabel(\"Quantidade de Atendimentos\")\n",
    "plt.xticks(rotation=0)\n",
    "plt.grid(axis='y', linestyle='--', alpha=0.7)\n",
    "\n",
    "# Exibir o gráfico\n",
    "plt.show()"
   ]
  },
  {
   "cell_type": "markdown",
   "id": "d3509aa2",
   "metadata": {},
   "source": [
    "### Atendimentos por faixa etária"
   ]
  },
  {
   "cell_type": "code",
   "execution_count": null,
   "id": "f7f1b7e0",
   "metadata": {},
   "outputs": [],
   "source": [
    "# Distribuição por faixa etária: Quantos atendimentos foram para cada faixa etária?\n",
    "contagem_faixa_etaria = df_pd['FAIXA_ETARIA'].value_counts()\n",
    "porcentagem_faixa_etaria = df_pd['FAIXA_ETARIA'].value_counts(normalize=True) * 100\n",
    "\n",
    "distribuicao_faixa_etaria = pd.DataFrame({\n",
    "    'Quantidade': contagem_faixa_etaria,\n",
    "    'Porcentagem (%)': porcentagem_faixa_etaria\n",
    "})\n",
    "\n",
    "print(distribuicao_faixa_etaria)"
   ]
  },
  {
   "cell_type": "code",
   "execution_count": null,
   "id": "3578b534",
   "metadata": {},
   "outputs": [],
   "source": [
    "from collections import Counter\n",
    "\n",
    "# Contar a frequência de cada faixa etária\n",
    "contagem_faixas = Counter(faixas_etarias)\n",
    "\n",
    "# Criar o gráfico de barras\n",
    "plt.bar(contagem_faixas.keys(), contagem_faixas.values(), color=['blue', 'green', 'orange'])\n",
    "\n",
    "# Configurar o gráfico\n",
    "plt.title(\"Distribuição de Atendimentos por Faixa Etária\")\n",
    "plt.xlabel(\"Faixa Etária\")\n",
    "plt.ylabel(\"Quantidade de Atendimentos\")\n",
    "plt.xticks(rotation=45)\n",
    "plt.grid(axis='y', linestyle='--', alpha=0.7)\n",
    "\n",
    "# Exibir o gráfico\n",
    "plt.show()"
   ]
  },
  {
   "cell_type": "markdown",
   "id": "c39bb21f",
   "metadata": {},
   "source": [
    "### Diagnósticos mais frequentes"
   ]
  },
  {
   "cell_type": "code",
   "execution_count": null,
   "id": "e90c37e1",
   "metadata": {},
   "outputs": [],
   "source": [
    "# Número de top CIDs a exibir\n",
    "num_top_cids = 5\n",
    "\n",
    "# Contar a frequência de cada CID\n",
    "contagem_cids = df_pd['CIDPRI'].value_counts()\n",
    "\n",
    "# Calcular as porcentagens\n",
    "porcentagem_cids = contagem_cids / contagem_cids.sum() * 100\n",
    "\n",
    "# Selecionar os top CIDs\n",
    "top_cids_count = contagem_cids.head(num_top_cids)\n",
    "top_cids_percent = porcentagem_cids.head(num_top_cids)\n",
    "\n",
    "# Calcular valores para \"Outros\"\n",
    "count_outros = contagem_cids.sum() - top_cids_count.sum()\n",
    "percent_outros = 100 - top_cids_percent.sum()\n",
    "\n",
    "# Criar DataFrame com os resultados\n",
    "distribuicao_cids = pd.DataFrame({\n",
    "    'CID': list(top_cids_count.index) + ['Outros'],\n",
    "    'Quantidade': list(top_cids_count.values) + [count_outros],\n",
    "    'Porcentagem (%)': list(top_cids_percent.values) + [percent_outros]\n",
    "})\n",
    "\n",
    "# Formatar a coluna de porcentagem para 2 casas decimais\n",
    "distribuicao_cids['Porcentagem (%)'] = distribuicao_cids['Porcentagem (%)'].round(2)\n",
    "\n",
    "print(distribuicao_cids)"
   ]
  },
  {
   "cell_type": "code",
   "execution_count": null,
   "id": "d2a08f9d",
   "metadata": {},
   "outputs": [],
   "source": [
    "# Criar figura com tamanho personalizado\n",
    "plt.figure(figsize=(10, 8))\n",
    "\n",
    "# Criar gráfico de pizza\n",
    "plt.pie(distribuicao_cids['Quantidade'], \n",
    "        labels=distribuicao_cids['CID'],\n",
    "        autopct='%1.1f%%',\n",
    "        colors=['#FF9999', '#66B2FF', '#99FF99', '#FFCC99', '#FF99CC', '#99CCFF'],\n",
    "        explode=[0.05] * len(distribuicao_cids))  # pequena separação de todas as fatias\n",
    "\n",
    "# Adicionar título\n",
    "plt.title('Distribuição dos Diagnósticos (CID) mais Frequentes', pad=20)\n",
    "\n",
    "# Adicionar legenda\n",
    "plt.legend(distribuicao_cids['CID'], \n",
    "          title=\"CIDs\",\n",
    "          loc=\"center left\",\n",
    "          bbox_to_anchor=(1, 0, 0.5, 1))\n",
    "\n",
    "# Ajustar layout para não cortar a legenda\n",
    "plt.tight_layout()\n",
    "\n",
    "# Mostrar o gráfico\n",
    "plt.show()"
   ]
  },
  {
   "cell_type": "markdown",
   "id": "e8b827f5",
   "metadata": {},
   "source": [
    "### Estabelecimentos e municípios"
   ]
  },
  {
   "cell_type": "code",
   "execution_count": null,
   "id": "6ee587ec",
   "metadata": {},
   "outputs": [],
   "source": [
    "print(\"Estabelecimentos únicos (CNES_EXEC):\", df_pd['CNES_EXEC'].nunique())\n",
    "print(\"Municípios únicos (MUNPAC):\", df_pd['MUNPAC'].nunique())"
   ]
  }
 ],
 "metadata": {
  "kernelspec": {
   "display_name": "pyspark-etl",
   "language": "python",
   "name": "python3"
  },
  "language_info": {
   "codemirror_mode": {
    "name": "ipython",
    "version": 3
   },
   "file_extension": ".py",
   "mimetype": "text/x-python",
   "name": "python",
   "nbconvert_exporter": "python",
   "pygments_lexer": "ipython3",
   "version": "3.10.12"
  }
 },
 "nbformat": 4,
 "nbformat_minor": 5
}
