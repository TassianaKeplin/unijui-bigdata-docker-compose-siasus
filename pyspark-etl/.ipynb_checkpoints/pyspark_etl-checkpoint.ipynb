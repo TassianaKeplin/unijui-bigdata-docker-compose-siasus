{
 "cells": [
  {
   "cell_type": "markdown",
   "id": "40118186",
   "metadata": {},
   "source": [
    "# Pyspark ETL"
   ]
  },
  {
   "cell_type": "markdown",
   "id": "d9523e54",
   "metadata": {},
   "source": [
    "## Processamento inicial dos dados"
   ]
  },
  {
   "cell_type": "code",
   "execution_count": 1,
   "id": "8146d4ea",
   "metadata": {
    "scrolled": true
   },
   "outputs": [],
   "source": [
    "import os\n",
    "from pyspark.sql import SparkSession\n",
    "from pyspark.sql.types import IntegerType, StringType\n",
    "from pyspark.sql.functions import to_date"
   ]
  },
  {
   "cell_type": "code",
   "execution_count": 2,
   "id": "d167429b",
   "metadata": {},
   "outputs": [],
   "source": [
    "# Configurar variáveis para acessar HDFS (caso necessário)\n",
    "os.environ[\"HADOOP_USER_NAME\"] = \"root\"  # executa operações no HDFS como usuário root"
   ]
  },
  {
   "cell_type": "code",
   "execution_count": 3,
   "id": "9295355d",
   "metadata": {},
   "outputs": [
    {
     "name": "stderr",
     "output_type": "stream",
     "text": [
      "25/05/23 10:21:12 WARN Utils: Your hostname, AcerNitro5 resolves to a loopback address: 127.0.1.1; using 10.255.255.254 instead (on interface lo)\n",
      "25/05/23 10:21:12 WARN Utils: Set SPARK_LOCAL_IP if you need to bind to another address\n",
      "Setting default log level to \"WARN\".\n",
      "To adjust logging level use sc.setLogLevel(newLevel). For SparkR, use setLogLevel(newLevel).\n",
      "25/05/23 10:21:12 WARN NativeCodeLoader: Unable to load native-hadoop library for your platform... using builtin-java classes where applicable\n"
     ]
    }
   ],
   "source": [
    "# Iniciar sessão Spark\n",
    "spark = SparkSession.builder \\\n",
    "    .appName(\"SiasusETL\") \\\n",
    "    .getOrCreate()"
   ]
  },
  {
   "cell_type": "code",
   "execution_count": 4,
   "id": "f60938ef",
   "metadata": {},
   "outputs": [],
   "source": [
    "# Ler o arquivo CSV do HDFS\n",
    "# vamos definir esquemas manualmente em alguns casos\n",
    "# encoding Latin-1 para caracteres especiais\n",
    "df = spark.read.format(\"csv\") \\\n",
    "    .option(\"header\", True) \\\n",
    "    .option(\"inferSchema\", False) \\\n",
    "    .option(\"sep\", \",\") \\\n",
    "    .option(\"encoding\", \"ISO-8859-1\") \\\n",
    "    .load(\"hdfs://localhost:9000/user/root/siasus/PSRS2301.csv\")"
   ]
  },
  {
   "cell_type": "code",
   "execution_count": 5,
   "id": "56086892",
   "metadata": {},
   "outputs": [
    {
     "name": "stdout",
     "output_type": "stream",
     "text": [
      "root\n",
      " |-- CNES_EXEC: string (nullable = true)\n",
      " |-- GESTAO: string (nullable = true)\n",
      " |-- CONDIC: string (nullable = true)\n",
      " |-- UFMUN: string (nullable = true)\n",
      " |-- TPUPS: string (nullable = true)\n",
      " |-- TIPPRE  : string (nullable = true)\n",
      " |-- MN_IND: string (nullable = true)\n",
      " |-- CNPJCPF: string (nullable = true)\n",
      " |-- CNPJMNT: string (nullable = true)\n",
      " |-- DT_PROCESS: string (nullable = true)\n",
      " |-- DT_ATEND: string (nullable = true)\n",
      " |-- CNS_PAC: string (nullable = true)\n",
      " |-- DTNASC: string (nullable = true)\n",
      " |-- TPIDADEPAC: string (nullable = true)\n",
      " |-- IDADEPAC: string (nullable = true)\n",
      " |-- NACION_PAC: string (nullable = true)\n",
      " |-- SEXOPAC: string (nullable = true)\n",
      " |-- RACACOR: string (nullable = true)\n",
      " |-- ETNIA: string (nullable = true)\n",
      " |-- MUNPAC: string (nullable = true)\n",
      " |-- MOT_COB: string (nullable = true)\n",
      " |-- DT_MOTCOB: string (nullable = true)\n",
      " |-- CATEND: string (nullable = true)\n",
      " |-- CIDPRI: string (nullable = true)\n",
      " |-- CIDASSOC: string (nullable = true)\n",
      " |-- ORIGEM_PAC: string (nullable = true)\n",
      " |-- DT_INICIO: string (nullable = true)\n",
      " |-- DT_FIM: string (nullable = true)\n",
      " |-- COB_ESF: string (nullable = true)\n",
      " |-- CNES_ESF: string (nullable = true)\n",
      " |-- DESTINOPAC: string (nullable = true)\n",
      " |-- PA_PROC_ID: string (nullable = true)\n",
      " |-- PA_QTDPRO: string (nullable = true)\n",
      " |-- PA_QTDAPR: string (nullable = true)\n",
      " |-- PA_SRV: string (nullable = true)\n",
      " |-- PA_CLASS_S: string (nullable = true)\n",
      " |-- SIT_RUA: string (nullable = true)\n",
      " |-- TP_DROGA: string (nullable = true)\n",
      " |-- LOC_REALIZ: string (nullable = true)\n",
      " |-- INICIO: string (nullable = true)\n",
      " |-- FIM: string (nullable = true)\n",
      " |-- PERMANEN: string (nullable = true)\n",
      " |-- QTDATE: string (nullable = true)\n",
      " |-- QTDPCN: string (nullable = true)\n",
      " |-- NAT_JUR: string (nullable = true)\n",
      "\n"
     ]
    },
    {
     "name": "stderr",
     "output_type": "stream",
     "text": [
      "25/05/23 10:21:21 WARN SparkStringUtils: Truncated the string representation of a plan since it was too large. This behavior can be adjusted by setting 'spark.sql.debug.maxToStringFields'.\n"
     ]
    },
    {
     "name": "stdout",
     "output_type": "stream",
     "text": [
      "+---------+------+------+------+-----+--------+------+--------------+--------------+----------+--------+---------------+--------+----------+--------+----------+-------+-------+-----+------+-------+---------+------+------+--------+----------+---------+------+-------+--------+----------+----------+---------+---------+------+----------+-------+--------+----------+--------+--------+--------+------+------+-------+\n",
      "|CNES_EXEC|GESTAO|CONDIC| UFMUN|TPUPS|TIPPRE  |MN_IND|       CNPJCPF|       CNPJMNT|DT_PROCESS|DT_ATEND|        CNS_PAC|  DTNASC|TPIDADEPAC|IDADEPAC|NACION_PAC|SEXOPAC|RACACOR|ETNIA|MUNPAC|MOT_COB|DT_MOTCOB|CATEND|CIDPRI|CIDASSOC|ORIGEM_PAC|DT_INICIO|DT_FIM|COB_ESF|CNES_ESF|DESTINOPAC|PA_PROC_ID|PA_QTDPRO|PA_QTDAPR|PA_SRV|PA_CLASS_S|SIT_RUA|TP_DROGA|LOC_REALIZ|  INICIO|     FIM|PERMANEN|QTDATE|QTDPCN|NAT_JUR|\n",
      "+---------+------+------+------+-----+--------+------+--------------+--------------+----------+--------+---------------+--------+----------+--------+----------+-------+-------+-----+------+-------+---------+------+------+--------+----------+---------+------+-------+--------+----------+----------+---------+---------+------+----------+-------+--------+----------+--------+--------+--------+------+------+-------+\n",
      "|  9573313|432110|    PG|432110|   70|      00|     M|88811948000178|88811948000178|    202301|  202301|é{Ç{{äâ~}{üÇ~|19691127|         4|      51|        01|      F|     01| NULL|432110|     28|     NULL|    01|  F323|    F323|        02| 20210121|  NULL|      S| 9573313|        00|0301080208|        1|        1|   115|       002|      N|    NULL|         C|20230101|20230131|      31|     1|     1|   1244|\n",
      "|  9573313|432110|    PG|432110|   70|      00|     M|88811948000178|88811948000178|    202301|  202301|é{Ç{{ü|ü|{~Ç||19760116|         4|      43|        01|      M|     02| NULL|432110|     28|     NULL|    01|  F193|    F193|        02| 20191204|  NULL|      S| 9573313|        00|0301080208|        1|        1|   115|       002|      N|    NULL|         C|20230101|20230131|      31|     1|     1|   1244|\n",
      "|  9573313|432110|    PG|432110|   70|      00|     M|88811948000178|88811948000178|    202301|  202301|é{Ç{{{üä{}~|Çé|19721122|         4|      47|        01|      F|     01| NULL|432110|     28|     NULL|    01|  F109|    F109|        02| 20200310|  NULL|      N|    NULL|        00|0301080208|        1|        1|   115|       002|      N|    NULL|         C|20230101|20230131|      31|     1|     1|   1244|\n",
      "|  9573313|432110|    PG|432110|   70|      00|     M|88811948000178|88811948000178|    202301|  202301|é{Ç{{Ç}ä}~â~~ÇÇ|20040224|         4|      15|        01|      M|     01| NULL|432110|     28|     NULL|    01|  F419|    F419|        02| 20191217|  NULL|      N|    NULL|        00|0301080208|        1|        1|   115|       002|      N|    NULL|         C|20230101|20230131|      31|     1|     1|   1244|\n",
      "|  9573313|432110|    PG|432110|   70|      00|     M|88811948000178|88811948000178|    202301|  202301|é{Ç~{|~Çé}{ä{|19620224|         4|      57|        01|      F|     01| NULL|432110|     28|     NULL|    01|  F200|    F200|        02| 20191008|  NULL|      S| 9573313|        00|0301080208|        1|        1|   115|       002|      N|    NULL|         C|20230101|20230131|      31|     1|     1|   1244|\n",
      "+---------+------+------+------+-----+--------+------+--------------+--------------+----------+--------+---------------+--------+----------+--------+----------+-------+-------+-----+------+-------+---------+------+------+--------+----------+---------+------+-------+--------+----------+----------+---------+---------+------+----------+-------+--------+----------+--------+--------+--------+------+------+-------+\n",
      "only showing top 5 rows\n",
      "\n"
     ]
    }
   ],
   "source": [
    "df.printSchema()\n",
    "df.show(5)"
   ]
  },
  {
   "cell_type": "code",
   "execution_count": 6,
   "id": "0c5cc004",
   "metadata": {},
   "outputs": [],
   "source": [
    "from pyspark.sql.functions import col, trim, upper, when\n",
    "\n",
    "# Exemplo 1: Renomear coluna com espaços e normalizar strings\n",
    "df = df.withColumnRenamed(\"TIPPRE  \", \"TIPPRE\")  # remove espaços do nome da coluna\n",
    "df = df.withColumn(\"CONDIC\", upper(trim(col(\"CONDIC\"))))  # normaliza CONDIC para maiúsculo sem espaços extras\n",
    "\n",
    "# Exemplo 2: Converter tipos de dados\n",
    "df = df.withColumn(\"IDADEPAC\", col(\"IDADEPAC\").cast(IntegerType()))\n",
    "df = df.withColumn(\"PA_QTDPRO\", col(\"PA_QTDPRO\").cast(IntegerType()))\n",
    "df = df.withColumn(\"PA_QTDAPR\", col(\"PA_QTDAPR\").cast(IntegerType()))\n",
    "\n",
    "df = df.withColumn(\n",
    "    \"DTNASC\",                      \n",
    "    to_date(col(\"DTNASC\"), \"yyyyMMdd\") \n",
    ")\n",
    "\n",
    "# Exemplo 3: Filtrar registros inválidos (caso IDADEPAC não seja plausível, por ex: > 120 anos ou < 0)\n",
    "df = df.filter((col(\"IDADEPAC\") >= 0) & (col(\"IDADEPAC\") < 120))\n",
    "\n",
    "# Exemplo 4: Enriquecimento - criar faixa etária\n",
    "df = df.withColumn(\n",
    "    \"FAIXA_ETARIA\",\n",
    "    when(col(\"IDADEPAC\") < 18, \"MENOR\")\n",
    "     .when((col(\"IDADEPAC\") >= 18) & (col(\"IDADEPAC\") < 60), \"MAIOR\")\n",
    "     .when(col(\"IDADEPAC\") >= 60, \"IDOSO\")\n",
    ")"
   ]
  },
  {
   "cell_type": "code",
   "execution_count": 11,
   "id": "80154245-ae44-4c62-af4c-94390db9e944",
   "metadata": {},
   "outputs": [
    {
     "name": "stderr",
     "output_type": "stream",
     "text": [
      "                                                                                "
     ]
    }
   ],
   "source": [
    "# Salvar DataFrame tratado no HDFS como Parquet (Camada Silver)\n",
    "output_path = \"hdfs://localhost:9000/user/hadoop/prata/psicossociais\"\n",
    "df.write.mode(\"overwrite\").parquet(output_path)\n"
   ]
  },
  {
   "cell_type": "code",
   "execution_count": 12,
   "id": "81fa4218-167e-496a-9e5a-e437fd12fffa",
   "metadata": {},
   "outputs": [
    {
     "name": "stdout",
     "output_type": "stream",
     "text": [
      "+---------+------+------+------+-----+------+------+--------------+--------------+----------+--------+---------------+----------+----------+--------+----------+-------+-------+-----+------+-------+---------+------+------+--------+----------+---------+------+-------+--------+----------+----------+---------+---------+------+----------+-------+--------+----------+--------+--------+--------+------+------+-------+------------+\n",
      "|CNES_EXEC|GESTAO|CONDIC| UFMUN|TPUPS|TIPPRE|MN_IND|       CNPJCPF|       CNPJMNT|DT_PROCESS|DT_ATEND|        CNS_PAC|    DTNASC|TPIDADEPAC|IDADEPAC|NACION_PAC|SEXOPAC|RACACOR|ETNIA|MUNPAC|MOT_COB|DT_MOTCOB|CATEND|CIDPRI|CIDASSOC|ORIGEM_PAC|DT_INICIO|DT_FIM|COB_ESF|CNES_ESF|DESTINOPAC|PA_PROC_ID|PA_QTDPRO|PA_QTDAPR|PA_SRV|PA_CLASS_S|SIT_RUA|TP_DROGA|LOC_REALIZ|  INICIO|     FIM|PERMANEN|QTDATE|QTDPCN|NAT_JUR|FAIXA_ETARIA|\n",
      "+---------+------+------+------+-----+------+------+--------------+--------------+----------+--------+---------------+----------+----------+--------+----------+-------+-------+-----+------+-------+---------+------+------+--------+----------+---------+------+-------+--------+----------+----------+---------+---------+------+----------+-------+--------+----------+--------+--------+--------+------+------+-------+------------+\n",
      "|  9573313|432110|    PG|432110|   70|    00|     M|88811948000178|88811948000178|    202301|  202301|é{Ç{{äâ~}{üÇ~|1969-11-27|         4|      51|        01|      F|     01| NULL|432110|     28|     NULL|    01|  F323|    F323|        02| 20210121|  NULL|      S| 9573313|        00|0301080208|        1|        1|   115|       002|      N|    NULL|         C|20230101|20230131|      31|     1|     1|   1244|       MAIOR|\n",
      "|  9573313|432110|    PG|432110|   70|    00|     M|88811948000178|88811948000178|    202301|  202301|é{Ç{{ü|ü|{~Ç||1976-01-16|         4|      43|        01|      M|     02| NULL|432110|     28|     NULL|    01|  F193|    F193|        02| 20191204|  NULL|      S| 9573313|        00|0301080208|        1|        1|   115|       002|      N|    NULL|         C|20230101|20230131|      31|     1|     1|   1244|       MAIOR|\n",
      "|  9573313|432110|    PG|432110|   70|    00|     M|88811948000178|88811948000178|    202301|  202301|é{Ç{{{üä{}~|Çé|1972-11-22|         4|      47|        01|      F|     01| NULL|432110|     28|     NULL|    01|  F109|    F109|        02| 20200310|  NULL|      N|    NULL|        00|0301080208|        1|        1|   115|       002|      N|    NULL|         C|20230101|20230131|      31|     1|     1|   1244|       MAIOR|\n",
      "|  9573313|432110|    PG|432110|   70|    00|     M|88811948000178|88811948000178|    202301|  202301|é{Ç{{Ç}ä}~â~~ÇÇ|2004-02-24|         4|      15|        01|      M|     01| NULL|432110|     28|     NULL|    01|  F419|    F419|        02| 20191217|  NULL|      N|    NULL|        00|0301080208|        1|        1|   115|       002|      N|    NULL|         C|20230101|20230131|      31|     1|     1|   1244|       MENOR|\n",
      "|  9573313|432110|    PG|432110|   70|    00|     M|88811948000178|88811948000178|    202301|  202301|é{Ç~{|~Çé}{ä{|1962-02-24|         4|      57|        01|      F|     01| NULL|432110|     28|     NULL|    01|  F200|    F200|        02| 20191008|  NULL|      S| 9573313|        00|0301080208|        1|        1|   115|       002|      N|    NULL|         C|20230101|20230131|      31|     1|     1|   1244|       MAIOR|\n",
      "+---------+------+------+------+-----+------+------+--------------+--------------+----------+--------+---------------+----------+----------+--------+----------+-------+-------+-----+------+-------+---------+------+------+--------+----------+---------+------+-------+--------+----------+----------+---------+---------+------+----------+-------+--------+----------+--------+--------+--------+------+------+-------+------------+\n",
      "only showing top 5 rows\n",
      "\n"
     ]
    }
   ],
   "source": [
    "df_silver = spark.read.parquet(output_path)\n",
    "df_silver.show(5)\n"
   ]
  },
  {
   "cell_type": "code",
   "execution_count": 9,
   "id": "e027ac59",
   "metadata": {},
   "outputs": [],
   "source": [
    "# df.summary().show()"
   ]
  },
  {
   "cell_type": "code",
   "execution_count": 13,
   "id": "69d1da45",
   "metadata": {},
   "outputs": [
    {
     "name": "stderr",
     "output_type": "stream",
     "text": [
      "                                                                                "
     ]
    },
    {
     "name": "stdout",
     "output_type": "stream",
     "text": [
      "Total de registros a enviar: 82233\n",
      "Exemplo de registro JSON: {\"CNES_EXEC\":\"9573313\",\"GESTAO\":\"432110\",\"CONDIC\":\"PG\",\"UFMUN\":\"432110\",\"TPUPS\":\"70\",\"TIPPRE\":\"00\",\"MN_IND\":\"M\",\"CNPJCPF\":\"88811948000178\",\"CNPJMNT\":\"88811948000178\",\"DT_PROCESS\":\"202301\",\"DT_ATEND\":\"202301\",\"CNS_PAC\":\"é{Ç{{äâ~}{üÇ~\",\"DTNASC\":\"1969-11-27\",\"TPIDADEPAC\":\"4\",\"IDADEPAC\":51,\"NACION_PAC\":\"01\",\"SEXOPAC\":\"F\",\"RACACOR\":\"01\",\"MUNPAC\":\"432110\",\"MOT_COB\":\"28\",\"CATEND\":\"01\",\"CIDPRI\":\"F323\",\"CIDASSOC\":\"F323\",\"ORIGEM_PAC\":\"02\",\"DT_INICIO\":\"20210121\",\"COB_ESF\":\"S\",\"CNES_ESF\":\"9573313\",\"DESTINOPAC\":\"00\",\"PA_PROC_ID\":\"0301080208\",\"PA_QTDPRO\":1,\"PA_QTDAPR\":1,\"PA_SRV\":\"115\",\"PA_CLASS_S\":\"002\",\"SIT_RUA\":\"N\",\"LOC_REALIZ\":\"C\",\"INICIO\":\"20230101\",\"FIM\":\"20230131\",\"PERMANEN\":\"31\",\"QTDATE\":\"1\",\"QTDPCN\":\"1\",\"NAT_JUR\":\"1244\",\"FAIXA_ETARIA\":\"MAIOR\"}\n"
     ]
    }
   ],
   "source": [
    "json_rdd = df_silver.toJSON().collect()\n",
    "\n",
    "print(f\"Total de registros a enviar: {len(json_rdd)}\")\n",
    "print(\"Exemplo de registro JSON:\", json_rdd[0])"
   ]
  },
  {
   "cell_type": "markdown",
   "id": "2d032830",
   "metadata": {},
   "source": [
    "## Producer"
   ]
  },
  {
   "cell_type": "code",
   "execution_count": 14,
   "id": "24e9e504",
   "metadata": {
    "scrolled": true
   },
   "outputs": [],
   "source": [
    "from kafka import KafkaProducer"
   ]
  },
  {
   "cell_type": "code",
   "execution_count": 15,
   "id": "2cf7e850",
   "metadata": {},
   "outputs": [],
   "source": [
    "# Configura o produtor Kafka (envio de strings, então usaremos encoding de UTF-8)\n",
    "producer = KafkaProducer(bootstrap_servers=['localhost:9092'], \n",
    "                         value_serializer=lambda v: v.encode('utf-8'))"
   ]
  },
  {
   "cell_type": "code",
   "execution_count": 16,
   "id": "12436a54",
   "metadata": {},
   "outputs": [],
   "source": [
    "topic_name = \"atendimentos_psicossociais\"\n",
    "\n",
    "# Envia cada mensagem JSON para o tópico\n",
    "for record in json_rdd:\n",
    "    producer.send(topic_name, value=record)"
   ]
  },
  {
   "cell_type": "code",
   "execution_count": 17,
   "id": "3fa1de69",
   "metadata": {},
   "outputs": [],
   "source": [
    "# Força envio de qualquer mensagem pendente\n",
    "producer.flush()\n",
    "producer.close()"
   ]
  },
  {
   "cell_type": "code",
   "execution_count": 18,
   "id": "e96cbadf",
   "metadata": {},
   "outputs": [
    {
     "name": "stdout",
     "output_type": "stream",
     "text": [
      "82233 mensagens enviadas para o tópico 'atendimentos_psicossociais'.\n"
     ]
    }
   ],
   "source": [
    "print(f\"{len(json_rdd)} mensagens enviadas para o tópico '{topic_name}'.\")"
   ]
  },
  {
   "cell_type": "markdown",
   "id": "f41f757b",
   "metadata": {},
   "source": [
    "docker exec -it kafka bash\n",
    "kafka-console-consumer.sh --bootstrap-server localhost:9092 --topic andimentos_psicossociais --from-beginning\n"
   ]
  },
  {
   "cell_type": "markdown",
   "id": "c3141eed",
   "metadata": {},
   "source": [
    "## Consumer"
   ]
  },
  {
   "cell_type": "code",
   "execution_count": 19,
   "id": "63b2bec0",
   "metadata": {},
   "outputs": [
    {
     "name": "stdout",
     "output_type": "stream",
     "text": [
      "Inseridos 10000 registros (último batch de 10000)...\n",
      "Inseridos 20000 registros (último batch de 10000)...\n",
      "Inseridos 30000 registros (último batch de 10000)...\n",
      "Inseridos 40000 registros (último batch de 10000)...\n",
      "Inseridos 50000 registros (último batch de 10000)...\n",
      "Inseridos 60000 registros (último batch de 10000)...\n",
      "Inseridos 70000 registros (último batch de 10000)...\n",
      "Inseridos 80000 registros (último batch de 10000)...\n",
      "Nenhuma mensagem nova após várias tentativas, encerrando consumo...\n",
      "Inseridos 82233 registros (último batch incompleto de 2233)...\n",
      "Consumo finalizado. Total de registros inseridos: 82233\n"
     ]
    }
   ],
   "source": [
    "from kafka import KafkaConsumer\n",
    "from pymongo import MongoClient\n",
    "import json\n",
    "import time\n",
    "\n",
    "topic_name = \"atendimentos_psicossociais\"\n",
    "\n",
    "mongo_client = MongoClient(\"localhost\", 27017)\n",
    "db = mongo_client[\"siasus\"]\n",
    "collection = db[\"atendimentos\"]\n",
    "\n",
    "consumer = KafkaConsumer(\n",
    "    topic_name,\n",
    "    bootstrap_servers=['localhost:9092'],\n",
    "    auto_offset_reset='earliest',\n",
    "    enable_auto_commit=True,\n",
    "    group_id=\"grupo-siasus-1\",\n",
    "    value_deserializer=lambda v: v.decode('utf-8')\n",
    ")\n",
    "\n",
    "batch_size = 10000\n",
    "batch = []\n",
    "count = 0\n",
    "\n",
    "# Controla tempo sem mensagens\n",
    "max_empty_polls = 10\n",
    "empty_polls = 0\n",
    "\n",
    "try:\n",
    "    while True:\n",
    "        raw_msgs = consumer.poll(timeout_ms=1000)  # 1 segundo esperando mensagens\n",
    "\n",
    "        if not raw_msgs:\n",
    "            empty_polls += 1\n",
    "            if empty_polls >= max_empty_polls:\n",
    "                print(\"Nenhuma mensagem nova após várias tentativas, encerrando consumo...\")\n",
    "                break\n",
    "            continue\n",
    "        else:\n",
    "            empty_polls = 0  # reset se chegou mensagem\n",
    "\n",
    "        for tp, messages in raw_msgs.items():\n",
    "            for msg in messages:\n",
    "                registro = json.loads(msg.value)\n",
    "                batch.append(registro)\n",
    "                count += 1\n",
    "\n",
    "                if len(batch) >= batch_size:\n",
    "                    collection.insert_many(batch)\n",
    "                    print(f\"Inseridos {count} registros (último batch de {len(batch)})...\")\n",
    "                    batch.clear()\n",
    "\n",
    "except KeyboardInterrupt:\n",
    "    print(\"Interrupção manual. Finalizando...\")\n",
    "\n",
    "finally:\n",
    "    if batch:\n",
    "        collection.insert_many(batch)\n",
    "        print(f\"Inseridos {count} registros (último batch incompleto de {len(batch)})...\")\n",
    "\n",
    "    print(f\"Consumo finalizado. Total de registros inseridos: {count}\")\n"
   ]
  },
  {
   "cell_type": "code",
   "execution_count": 20,
   "id": "f6d4a0a2",
   "metadata": {},
   "outputs": [
    {
     "name": "stdout",
     "output_type": "stream",
     "text": [
      "870258\n",
      "{'_id': ObjectId('682fd75812ba704a50174c3b'), 'CNES_EXEC': '9573313', 'GESTAO': '432110', 'CONDIC': 'PG', 'UFMUN': '432110', 'TPUPS': '70', 'TIPPRE': '00', 'MN_IND': 'M', 'CNPJCPF': '88811948000178', 'CNPJMNT': '88811948000178', 'DT_PROCESS': '202301', 'DT_ATEND': '202301', 'CNS_PAC': 'é{Ç{{äâ\\x7f\\x7f~}{üÇ~', 'DTNASC': '1969-11-27', 'TPIDADEPAC': '4', 'IDADEPAC': 51, 'NACION_PAC': '01', 'SEXOPAC': 'F', 'RACACOR': '01', 'MUNPAC': '432110', 'MOT_COB': '28', 'CATEND': '01', 'CIDPRI': 'F323', 'CIDASSOC': 'F323', 'ORIGEM_PAC': '02', 'DT_INICIO': '20210121', 'COB_ESF': 'S', 'CNES_ESF': '9573313', 'DESTINOPAC': '00', 'PA_PROC_ID': '0301080208', 'PA_QTDPRO': 1, 'PA_QTDAPR': 1, 'PA_SRV': '115', 'PA_CLASS_S': '002', 'SIT_RUA': 'N', 'LOC_REALIZ': 'C', 'INICIO': '20230101', 'FIM': '20230131', 'PERMANEN': '31', 'QTDATE': '1', 'QTDPCN': '1', 'NAT_JUR': '1244', 'FAIXA_ETARIA': 'MAIOR'}\n"
     ]
    }
   ],
   "source": [
    "print(collection.count_documents({}))\n",
    "# ou, para ver um exemplo de documento:\n",
    "doc = collection.find_one()\n",
    "print(doc)"
   ]
  },
  {
   "cell_type": "markdown",
   "id": "df02cad0",
   "metadata": {},
   "source": [
    "## Análise exploratória"
   ]
  },
  {
   "cell_type": "code",
   "execution_count": null,
   "id": "f496edcd",
   "metadata": {},
   "outputs": [],
   "source": [
    "import pandas as pd\n",
    "import json\n",
    "from collections import Counter\n",
    "import matplotlib.pyplot as plt\n",
    "\n",
    "# Recupere todos os documentos da coleção (cuidado: se fosse muito grande, poderíamos filtrar ou limitar)\n",
    "docs = list(collection.find({}))  # converte cursor em lista de documentos\n",
    "df_pd = pd.DataFrame(docs)\n",
    "\n",
    "print(df_pd.shape)        # deve ser (82233, número_de_colunas+_id)\n",
    "print(df_pd.columns[:10]) # ver as primeiras colunas disponíveis"
   ]
  },
  {
   "cell_type": "markdown",
   "id": "46979429",
   "metadata": {},
   "source": [
    "### Distribuição do número de atendimentos psicossociais por sexo do paciente em Jan/2023"
   ]
  },
  {
   "cell_type": "code",
   "execution_count": null,
   "id": "bfebea6a",
   "metadata": {},
   "outputs": [],
   "source": [
    "#Distribuição por sexo dos pacientes: Quantos atendimentos foram para pacientes do sexo masculino vs feminino? Isso pode indicar perfil demográfico do atendimento psicossocial.\n",
    "contagem_sexo = df_pd['SEXOPAC'].value_counts()\n",
    "porcentagem_sexo = df_pd['SEXOPAC'].value_counts(normalize=True) * 100\n",
    "\n",
    "distribuicao_sexo = pd.DataFrame({\n",
    "    'Quantidade': contagem_sexo,\n",
    "    'Porcentagem (%)': porcentagem_sexo\n",
    "})\n",
    "\n",
    "print(distribuicao_sexo)"
   ]
  },
  {
   "cell_type": "code",
   "execution_count": null,
   "id": "79231841",
   "metadata": {},
   "outputs": [],
   "source": [
    "# Criar o gráfico de barras\n",
    "contagem_sexo.plot(kind='bar', color=['blue', 'pink'], alpha=0.7)\n",
    "\n",
    "# Configurar o gráfico\n",
    "plt.title(\"Distribuição de Atendimentos por Sexo do Paciente\")\n",
    "plt.xlabel(\"Sexo\")\n",
    "plt.ylabel(\"Quantidade de Atendimentos\")\n",
    "plt.xticks(rotation=0)\n",
    "plt.grid(axis='y', linestyle='--', alpha=0.7)\n",
    "\n",
    "# Exibir o gráfico\n",
    "plt.show()"
   ]
  },
  {
   "cell_type": "markdown",
   "id": "d3509aa2",
   "metadata": {},
   "source": [
    "### Atendimentos por faixa etária"
   ]
  },
  {
   "cell_type": "code",
   "execution_count": null,
   "id": "f7f1b7e0",
   "metadata": {},
   "outputs": [],
   "source": [
    "# Distribuição por faixa etária: Quantos atendimentos foram para cada faixa etária?\n",
    "contagem_faixa_etaria = df_pd['FAIXA_ETARIA'].value_counts()\n",
    "porcentagem_faixa_etaria = df_pd['FAIXA_ETARIA'].value_counts(normalize=True) * 100\n",
    "\n",
    "distribuicao_faixa_etaria = pd.DataFrame({\n",
    "    'Quantidade': contagem_faixa_etaria,\n",
    "    'Porcentagem (%)': porcentagem_faixa_etaria\n",
    "})\n",
    "\n",
    "print(distribuicao_faixa_etaria)"
   ]
  },
  {
   "cell_type": "code",
   "execution_count": null,
   "id": "3578b534",
   "metadata": {},
   "outputs": [],
   "source": [
    "# Criar o gráfico de barras\n",
    "plt.figure(figsize=(10, 6))\n",
    "contagem_faixa_etaria.plot(kind='bar', color=['blue', 'green', 'orange'])\n",
    "\n",
    "# Configurar o gráfico\n",
    "plt.title(\"Distribuição de Atendimentos por Faixa Etária\")\n",
    "plt.xlabel(\"Faixa Etária\")\n",
    "plt.ylabel(\"Quantidade de Atendimentos\")\n",
    "plt.xticks(rotation=0)\n",
    "plt.grid(axis='y', linestyle='--', alpha=0.7)\n",
    "\n",
    "# Adicionar valores sobre as barras\n",
    "for i, v in enumerate(contagem_faixa_etaria):\n",
    "    plt.text(i, v, str(v), ha='center', va='bottom')\n",
    "\n",
    "# Ajustar layout\n",
    "plt.tight_layout()\n",
    "\n",
    "# Exibir o gráfico\n",
    "plt.show()"
   ]
  },
  {
   "cell_type": "markdown",
   "id": "c39bb21f",
   "metadata": {},
   "source": [
    "### Diagnósticos mais frequentes"
   ]
  },
  {
   "cell_type": "code",
   "execution_count": null,
   "id": "e90c37e1",
   "metadata": {},
   "outputs": [],
   "source": [
    "# Número de top CIDs a exibir\n",
    "num_top_cids = 5\n",
    "\n",
    "# Contar a frequência de cada CID\n",
    "contagem_cids = df_pd['CIDPRI'].value_counts()\n",
    "\n",
    "# Calcular as porcentagens\n",
    "porcentagem_cids = contagem_cids / contagem_cids.sum() * 100\n",
    "\n",
    "# Selecionar os top CIDs\n",
    "top_cids_count = contagem_cids.head(num_top_cids)\n",
    "top_cids_percent = porcentagem_cids.head(num_top_cids)\n",
    "\n",
    "# Calcular valores para \"Outros\"\n",
    "count_outros = contagem_cids.sum() - top_cids_count.sum()\n",
    "percent_outros = 100 - top_cids_percent.sum()\n",
    "\n",
    "# Criar DataFrame com os resultados\n",
    "distribuicao_cids = pd.DataFrame({\n",
    "    'CID': list(top_cids_count.index) + ['Outros'],\n",
    "    'Quantidade': list(top_cids_count.values) + [count_outros],\n",
    "    'Porcentagem (%)': list(top_cids_percent.values) + [percent_outros]\n",
    "})\n",
    "\n",
    "# Formatar a coluna de porcentagem para 2 casas decimais\n",
    "distribuicao_cids['Porcentagem (%)'] = distribuicao_cids['Porcentagem (%)'].round(2)\n",
    "\n",
    "print(distribuicao_cids)"
   ]
  },
  {
   "cell_type": "code",
   "execution_count": null,
   "id": "d2a08f9d",
   "metadata": {},
   "outputs": [],
   "source": [
    "# Criar figura com tamanho personalizado\n",
    "plt.figure(figsize=(10, 8))\n",
    "\n",
    "# Criar gráfico de pizza\n",
    "plt.pie(distribuicao_cids['Quantidade'], \n",
    "        labels=distribuicao_cids['CID'],\n",
    "        autopct='%1.1f%%',\n",
    "        colors=['#FF9999', '#66B2FF', '#99FF99', '#FFCC99', '#FF99CC', '#99CCFF'],\n",
    "        explode=[0.05] * len(distribuicao_cids))  # pequena separação de todas as fatias\n",
    "\n",
    "# Adicionar título\n",
    "plt.title('Distribuição dos Diagnósticos (CID) mais Frequentes', pad=20)\n",
    "\n",
    "# Adicionar legenda\n",
    "plt.legend(distribuicao_cids['CID'], \n",
    "          title=\"CIDs\",\n",
    "          loc=\"center left\",\n",
    "          bbox_to_anchor=(1, 0, 0.5, 1))\n",
    "\n",
    "# Ajustar layout para não cortar a legenda\n",
    "plt.tight_layout()\n",
    "\n",
    "# Mostrar o gráfico\n",
    "plt.show()"
   ]
  },
  {
   "cell_type": "markdown",
   "id": "e8b827f5",
   "metadata": {},
   "source": [
    "### Estabelecimentos e municípios"
   ]
  },
  {
   "cell_type": "code",
   "execution_count": null,
   "id": "6ee587ec",
   "metadata": {},
   "outputs": [],
   "source": [
    "print(\"Estabelecimentos únicos (CNES_EXEC):\", df_pd['CNES_EXEC'].nunique())\n",
    "print(\"Municípios únicos (MUNPAC):\", df_pd['MUNPAC'].nunique())"
   ]
  }
 ],
 "metadata": {
  "kernelspec": {
   "display_name": "Python 3 (ipykernel)",
   "language": "python",
   "name": "python3"
  },
  "language_info": {
   "codemirror_mode": {
    "name": "ipython",
    "version": 3
   },
   "file_extension": ".py",
   "mimetype": "text/x-python",
   "name": "python",
   "nbconvert_exporter": "python",
   "pygments_lexer": "ipython3",
   "version": "3.12.3"
  }
 },
 "nbformat": 4,
 "nbformat_minor": 5
}
